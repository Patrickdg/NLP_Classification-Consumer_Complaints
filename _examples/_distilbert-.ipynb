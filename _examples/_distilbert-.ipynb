{
 "cells": [
  {
   "cell_type": "markdown",
   "metadata": {},
   "source": [
    "# BERT"
   ]
  },
  {
   "cell_type": "markdown",
   "metadata": {},
   "source": [
    "### Libraries"
   ]
  },
  {
   "cell_type": "code",
   "execution_count": 1,
   "metadata": {},
   "outputs": [],
   "source": [
    "import process_funcs as pf\n",
    "\n",
    "import pandas as pd\n",
    "import numpy as np\n",
    "import tensorflow as tf\n",
    "import tensorflow as tf\n",
    "from tensorflow.keras.optimizers import Adam\n",
    "from tensorflow.keras.callbacks import EarlyStopping\n",
    "from tensorflow.keras.initializers import TruncatedNormal\n",
    "from tensorflow.keras.losses import CategoricalCrossentropy\n",
    "from tensorflow.keras.metrics import CategoricalAccuracy\n",
    "from tensorflow.keras.utils import to_categorical\n",
    "from tensorflow.keras.layers import Input, Dense\n",
    "\n",
    "from transformers import AutoTokenizer,TFBertModel\n",
    "from transformers import DistilBertTokenizer, TFDistilBertForSequenceClassification"
   ]
  },
  {
   "cell_type": "markdown",
   "metadata": {},
   "source": [
    "### Parameters"
   ]
  },
  {
   "cell_type": "code",
   "execution_count": 2,
   "metadata": {},
   "outputs": [],
   "source": [
    "model_name = \"distilbert-base-uncased\"\n",
    "max_length = 50"
   ]
  },
  {
   "cell_type": "markdown",
   "metadata": {},
   "source": [
    "### Reading & Processing Data"
   ]
  },
  {
   "cell_type": "code",
   "execution_count": 3,
   "metadata": {},
   "outputs": [],
   "source": [
    "train_x, test_x, train_y, test_y, label_map  = pf.get_train_test()\n",
    "\n",
    "for data in [train_x, test_x]: \n",
    "    for i, l in enumerate(data): \n",
    "        data[i] = ' '.join(data[i])"
   ]
  },
  {
   "cell_type": "code",
   "execution_count": 4,
   "metadata": {},
   "outputs": [
    {
     "data": {
      "text/plain": [
       "array([[0., 0., 1., 0., 0.],\n",
       "       [0., 0., 0., 0., 1.],\n",
       "       [1., 0., 0., 0., 0.],\n",
       "       [0., 1., 0., 0., 0.],\n",
       "       [0., 1., 0., 0., 0.]], dtype=float32)"
      ]
     },
     "execution_count": 4,
     "metadata": {},
     "output_type": "execute_result"
    }
   ],
   "source": [
    "#Onehot encoding labels\n",
    "train_y = to_categorical(train_y)\n",
    "test_y = to_categorical(test_y)\n",
    "\n",
    "train_y[:5]"
   ]
  },
  {
   "cell_type": "code",
   "execution_count": 5,
   "metadata": {},
   "outputs": [
    {
     "name": "stderr",
     "output_type": "stream",
     "text": [
      "Some layers from the model checkpoint at distilbert-base-uncased were not used when initializing TFDistilBertForSequenceClassification: ['activation_13', 'vocab_layer_norm', 'vocab_projector', 'vocab_transform']\n",
      "- This IS expected if you are initializing TFDistilBertForSequenceClassification from the checkpoint of a model trained on another task or with another architecture (e.g. initializing a BertForSequenceClassification model from a BertForPreTraining model).\n",
      "- This IS NOT expected if you are initializing TFDistilBertForSequenceClassification from the checkpoint of a model that you expect to be exactly identical (initializing a BertForSequenceClassification model from a BertForSequenceClassification model).\n",
      "Some layers of TFDistilBertForSequenceClassification were not initialized from the model checkpoint at distilbert-base-uncased and are newly initialized: ['classifier', 'dropout_19', 'pre_classifier']\n",
      "You should probably TRAIN this model on a down-stream task to be able to use it for predictions and inference.\n"
     ]
    }
   ],
   "source": [
    "# tokenizer = DistilBertTokenizer.from_pretrained(model_name)\n",
    "tokenizer = AutoTokenizer.from_pretrained(model_name)\n",
    "model = TFDistilBertForSequenceClassification.from_pretrained(model_name)\n",
    "# train_encodings = tokenizer(train_x, truncation=True, padding=True, max_length=max_length, return_tensors=\"tf\")\n",
    "# test_encodings = tokenizer(test_x, truncation=True, padding=True, max_length=max_length, return_tensors=\"tf\")\n",
    "\n",
    "x_train = tokenizer(\n",
    "    text=train_x,\n",
    "    add_special_tokens=True,\n",
    "    max_length=max_length,\n",
    "    truncation=True,\n",
    "    padding=True, \n",
    "    return_tensors='tf',\n",
    "    return_token_type_ids = False,\n",
    "    return_attention_mask = True,\n",
    "    verbose = True)\n",
    "x_test = tokenizer(\n",
    "    text=test_x,\n",
    "    add_special_tokens=True,\n",
    "    max_length=max_length,\n",
    "    truncation=True,\n",
    "    padding=True, \n",
    "    return_tensors='tf',\n",
    "    return_token_type_ids = False,\n",
    "    return_attention_mask = True,\n",
    "    verbose = True)"
   ]
  },
  {
   "cell_type": "code",
   "execution_count": 6,
   "metadata": {},
   "outputs": [],
   "source": [
    "input_ids = x_train['input_ids']\n",
    "attention_mask = x_train['attention_mask']"
   ]
  },
  {
   "cell_type": "markdown",
   "metadata": {},
   "source": [
    "### Modeling"
   ]
  },
  {
   "cell_type": "code",
   "execution_count": 7,
   "metadata": {},
   "outputs": [
    {
     "name": "stderr",
     "output_type": "stream",
     "text": [
      "Some layers from the model checkpoint at distilbert-base-uncased were not used when initializing TFDistilBertForSequenceClassification: ['activation_13', 'vocab_layer_norm', 'vocab_projector', 'vocab_transform']\n",
      "- This IS expected if you are initializing TFDistilBertForSequenceClassification from the checkpoint of a model trained on another task or with another architecture (e.g. initializing a BertForSequenceClassification model from a BertForPreTraining model).\n",
      "- This IS NOT expected if you are initializing TFDistilBertForSequenceClassification from the checkpoint of a model that you expect to be exactly identical (initializing a BertForSequenceClassification model from a BertForSequenceClassification model).\n",
      "Some layers of TFDistilBertForSequenceClassification were not initialized from the model checkpoint at distilbert-base-uncased and are newly initialized: ['dropout_39', 'classifier', 'pre_classifier']\n",
      "You should probably TRAIN this model on a down-stream task to be able to use it for predictions and inference.\n"
     ]
    }
   ],
   "source": [
    "from transformers import Trainer, TrainingArguments\n",
    "n_classes = train_y.shape[1]\n",
    "model = TFDistilBertForSequenceClassification.from_pretrained(model_name)\n",
    "\n",
    "input_ids = Input(shape=(max_length,), dtype=tf.int32, name=\"input_ids\")\n",
    "input_mask = Input(shape=(max_length,), dtype=tf.int32, name=\"attention_mask\")\n",
    "embeddings = model(input_ids, attention_mask = input_mask)[0] \n",
    "\n",
    "# out = tf.keras.layers.GlobalMaxPool2D()(embeddings)\n",
    "out = Dense(max_length, activation='relu')(embeddings)\n",
    "out = tf.keras.layers.Dropout(0.1)(out)\n",
    "out = Dense(32,activation = 'relu')(out)\n",
    "\n",
    "y = Dense(n_classes, activation = 'sigmoid')(out)\n",
    "\n",
    "model = tf.keras.Model(inputs=[input_ids, input_mask], outputs=y)\n",
    "model.layers[2].trainable = True"
   ]
  },
  {
   "cell_type": "code",
   "execution_count": 8,
   "metadata": {},
   "outputs": [],
   "source": [
    "optimizer = Adam(\n",
    "    learning_rate=5e-05,\n",
    "    epsilon=1e-08,\n",
    "    decay=0.01,\n",
    "    clipnorm=1.0)\n",
    "model.compile(\n",
    "    optimizer = optimizer,\n",
    "    loss = 'categorical_crossentropy', \n",
    "    metrics = ['acc'])"
   ]
  },
  {
   "cell_type": "code",
   "execution_count": 9,
   "metadata": {},
   "outputs": [
    {
     "name": "stdout",
     "output_type": "stream",
     "text": [
      "Epoch 1/50\n",
      "19/19 [==============================] - 17s 524ms/step - loss: 1.5353 - acc: 0.2248 - val_loss: 1.4449 - val_acc: 0.3154\n",
      "Epoch 2/50\n",
      "19/19 [==============================] - 9s 452ms/step - loss: 1.3982 - acc: 0.3146 - val_loss: 1.3444 - val_acc: 0.3356\n",
      "Epoch 3/50\n",
      "19/19 [==============================] - 8s 446ms/step - loss: 1.2891 - acc: 0.4136 - val_loss: 1.2382 - val_acc: 0.5101\n",
      "Epoch 4/50\n",
      "19/19 [==============================] - 9s 449ms/step - loss: 1.1969 - acc: 0.5092 - val_loss: 1.1482 - val_acc: 0.5168\n",
      "Epoch 5/50\n",
      "19/19 [==============================] - 8s 437ms/step - loss: 1.1009 - acc: 0.5487 - val_loss: 1.0676 - val_acc: 0.5201\n",
      "Epoch 6/50\n",
      "19/19 [==============================] - 8s 436ms/step - loss: 1.0262 - acc: 0.5654 - val_loss: 1.0046 - val_acc: 0.5168\n",
      "Epoch 7/50\n",
      "19/19 [==============================] - 8s 418ms/step - loss: 0.9679 - acc: 0.5948 - val_loss: 0.9256 - val_acc: 0.6779\n",
      "Epoch 8/50\n",
      "19/19 [==============================] - 8s 419ms/step - loss: 0.8985 - acc: 0.6233 - val_loss: 0.8917 - val_acc: 0.6745\n",
      "Epoch 9/50\n",
      "19/19 [==============================] - 8s 419ms/step - loss: 0.8419 - acc: 0.6451 - val_loss: 0.8306 - val_acc: 0.7047\n",
      "Epoch 10/50\n",
      "19/19 [==============================] - 8s 416ms/step - loss: 0.7890 - acc: 0.6686 - val_loss: 0.7909 - val_acc: 0.7114\n",
      "Epoch 11/50\n",
      "19/19 [==============================] - 8s 420ms/step - loss: 0.7775 - acc: 0.6502 - val_loss: 0.7553 - val_acc: 0.7047\n",
      "Epoch 12/50\n",
      "19/19 [==============================] - 8s 420ms/step - loss: 0.7189 - acc: 0.6745 - val_loss: 0.7358 - val_acc: 0.7047\n",
      "Epoch 13/50\n",
      "19/19 [==============================] - 8s 413ms/step - loss: 0.6748 - acc: 0.6938 - val_loss: 0.7018 - val_acc: 0.7081\n",
      "Epoch 14/50\n",
      "19/19 [==============================] - 8s 430ms/step - loss: 0.6483 - acc: 0.7072 - val_loss: 0.6671 - val_acc: 0.7047\n",
      "Epoch 15/50\n",
      "19/19 [==============================] - 8s 412ms/step - loss: 0.6275 - acc: 0.7097 - val_loss: 0.6559 - val_acc: 0.7114\n",
      "Epoch 16/50\n",
      "19/19 [==============================] - 9s 450ms/step - loss: 0.6024 - acc: 0.7139 - val_loss: 0.6414 - val_acc: 0.7013\n",
      "Epoch 17/50\n",
      "19/19 [==============================] - 8s 421ms/step - loss: 0.5714 - acc: 0.7290 - val_loss: 0.6284 - val_acc: 0.7013\n",
      "Epoch 18/50\n",
      "19/19 [==============================] - 8s 435ms/step - loss: 0.5633 - acc: 0.7232 - val_loss: 0.6258 - val_acc: 0.7013\n",
      "Epoch 19/50\n",
      "19/19 [==============================] - 9s 450ms/step - loss: 0.5554 - acc: 0.7248 - val_loss: 0.5972 - val_acc: 0.7013\n",
      "Epoch 20/50\n",
      "19/19 [==============================] - 8s 423ms/step - loss: 0.5225 - acc: 0.7357 - val_loss: 0.5770 - val_acc: 0.7013\n",
      "Epoch 21/50\n",
      "19/19 [==============================] - 8s 433ms/step - loss: 0.5023 - acc: 0.7542 - val_loss: 0.5565 - val_acc: 0.7047\n",
      "Epoch 22/50\n",
      "19/19 [==============================] - 8s 427ms/step - loss: 0.4677 - acc: 0.7567 - val_loss: 0.5395 - val_acc: 0.7148\n",
      "Epoch 23/50\n",
      "19/19 [==============================] - 8s 416ms/step - loss: 0.4613 - acc: 0.7626 - val_loss: 0.5277 - val_acc: 0.7114\n",
      "Epoch 24/50\n",
      "19/19 [==============================] - 8s 425ms/step - loss: 0.4687 - acc: 0.7668 - val_loss: 0.5274 - val_acc: 0.7047\n",
      "Epoch 25/50\n",
      "19/19 [==============================] - 8s 416ms/step - loss: 0.4399 - acc: 0.7802 - val_loss: 0.5092 - val_acc: 0.7114\n",
      "Epoch 26/50\n",
      "19/19 [==============================] - 8s 418ms/step - loss: 0.4319 - acc: 0.7819 - val_loss: 0.4868 - val_acc: 0.7114\n",
      "Epoch 27/50\n",
      "19/19 [==============================] - 8s 423ms/step - loss: 0.4265 - acc: 0.7878 - val_loss: 0.4763 - val_acc: 0.7114\n",
      "Epoch 28/50\n",
      "19/19 [==============================] - 8s 414ms/step - loss: 0.4152 - acc: 0.7903 - val_loss: 0.4495 - val_acc: 0.7181\n",
      "Epoch 29/50\n",
      "19/19 [==============================] - 8s 410ms/step - loss: 0.4098 - acc: 0.7995 - val_loss: 0.4436 - val_acc: 0.7215\n",
      "Epoch 30/50\n",
      "19/19 [==============================] - 8s 403ms/step - loss: 0.3824 - acc: 0.8096 - val_loss: 0.4787 - val_acc: 0.7047\n",
      "Epoch 31/50\n",
      "19/19 [==============================] - 8s 413ms/step - loss: 0.3854 - acc: 0.8163 - val_loss: 0.4971 - val_acc: 0.6913\n",
      "Epoch 32/50\n",
      "19/19 [==============================] - 8s 428ms/step - loss: 0.3908 - acc: 0.8238 - val_loss: 0.4660 - val_acc: 0.9362\n",
      "Epoch 33/50\n",
      "19/19 [==============================] - 8s 405ms/step - loss: 0.3542 - acc: 0.8515 - val_loss: 0.4680 - val_acc: 0.9362\n",
      "Epoch 34/50\n",
      "19/19 [==============================] - 8s 422ms/step - loss: 0.3439 - acc: 0.8658 - val_loss: 0.3897 - val_acc: 0.9564\n",
      "Epoch 35/50\n",
      "19/19 [==============================] - 8s 428ms/step - loss: 0.3387 - acc: 0.8574 - val_loss: 0.4076 - val_acc: 0.9564\n",
      "Epoch 36/50\n",
      "19/19 [==============================] - 8s 428ms/step - loss: 0.3276 - acc: 0.8742 - val_loss: 0.4366 - val_acc: 0.9463\n",
      "Epoch 37/50\n",
      "19/19 [==============================] - 8s 440ms/step - loss: 0.3299 - acc: 0.8750 - val_loss: 0.4166 - val_acc: 0.9497\n",
      "Epoch 38/50\n",
      "19/19 [==============================] - 9s 458ms/step - loss: 0.3159 - acc: 0.8960 - val_loss: 0.3551 - val_acc: 0.9564\n",
      "Epoch 39/50\n",
      "19/19 [==============================] - 9s 468ms/step - loss: 0.3031 - acc: 0.8893 - val_loss: 0.3478 - val_acc: 0.9597\n",
      "Epoch 40/50\n",
      "19/19 [==============================] - 9s 469ms/step - loss: 0.2873 - acc: 0.8993 - val_loss: 0.3421 - val_acc: 0.9597\n",
      "Epoch 41/50\n",
      "19/19 [==============================] - 8s 440ms/step - loss: 0.2956 - acc: 0.8985 - val_loss: 0.3431 - val_acc: 0.9564\n",
      "Epoch 42/50\n",
      "19/19 [==============================] - 8s 430ms/step - loss: 0.2885 - acc: 0.9060 - val_loss: 0.3411 - val_acc: 0.9564\n",
      "Epoch 43/50\n",
      "19/19 [==============================] - 8s 421ms/step - loss: 0.2658 - acc: 0.9169 - val_loss: 0.3357 - val_acc: 0.9564\n",
      "Epoch 44/50\n",
      "19/19 [==============================] - 8s 433ms/step - loss: 0.2713 - acc: 0.9035 - val_loss: 0.3266 - val_acc: 0.9597\n",
      "Epoch 45/50\n",
      "19/19 [==============================] - 8s 418ms/step - loss: 0.2540 - acc: 0.9161 - val_loss: 0.3184 - val_acc: 0.9597\n",
      "Epoch 46/50\n",
      "19/19 [==============================] - 8s 407ms/step - loss: 0.2607 - acc: 0.9186 - val_loss: 0.3185 - val_acc: 0.9564\n",
      "Epoch 47/50\n",
      "19/19 [==============================] - 9s 453ms/step - loss: 0.2508 - acc: 0.9086 - val_loss: 0.3217 - val_acc: 0.9530\n",
      "Epoch 48/50\n",
      "19/19 [==============================] - 9s 457ms/step - loss: 0.2494 - acc: 0.9228 - val_loss: 0.3319 - val_acc: 0.9564\n",
      "Epoch 49/50\n",
      "19/19 [==============================] - 8s 415ms/step - loss: 0.2533 - acc: 0.9211 - val_loss: 0.3045 - val_acc: 0.9564\n",
      "Epoch 50/50\n",
      "19/19 [==============================] - 8s 402ms/step - loss: 0.2227 - acc: 0.9346 - val_loss: 0.2894 - val_acc: 0.9664\n"
     ]
    }
   ],
   "source": [
    "earlystopping = EarlyStopping(monitor = \"val_loss\", \n",
    "                                mode = \"min\", patience = 10, \n",
    "                                restore_best_weights = True)\n",
    "history = model.fit(\n",
    "    x = {'input_ids': x_train['input_ids'],\n",
    "        'attention_mask': x_train['attention_mask']},\n",
    "    y = train_y,\n",
    "    validation_data = (\n",
    "        {'input_ids': x_test['input_ids'],\n",
    "        'attention_mask': x_test['attention_mask']}, \n",
    "      test_y\n",
    "    ),\n",
    "  epochs = 50,\n",
    "  batch_size = 64,\n",
    "  callbacks=[earlystopping]\n",
    ")"
   ]
  },
  {
   "cell_type": "code",
   "execution_count": 15,
   "metadata": {},
   "outputs": [
    {
     "data": {
      "image/png": "[encoded data removed]",
      "text/plain": [
       "<Figure size 432x288 with 1 Axes>"
      ]
     },
     "metadata": {
      "needs_background": "light"
     },
     "output_type": "display_data"
    }
   ],
   "source": [
    "\"\"\"PLOTTING - Training and validation loss\"\"\"\n",
    "import matplotlib.pyplot as plt\n",
    "\n",
    "#METRICS\n",
    "loss = history.history['loss']\n",
    "val_loss = history.history['val_loss']\n",
    "epochs = range(1, len(loss) + 1)\n",
    "\n",
    "#PLOT\n",
    "plt.plot(epochs, loss, 'bo', label='Training loss')\n",
    "plt.plot(epochs, val_loss, 'b', label='Validation loss')\n",
    "plt.title('Training and validation loss')\n",
    "plt.xlabel('Epochs')\n",
    "plt.ylabel('Loss')\n",
    "plt.legend()\n",
    "plt.show()"
   ]
  },
  {
   "cell_type": "code",
   "execution_count": 17,
   "metadata": {},
   "outputs": [
    {
     "data": {
      "image/png": "[encoded data removed]",
      "text/plain": [
       "<Figure size 432x288 with 1 Axes>"
      ]
     },
     "metadata": {
      "needs_background": "light"
     },
     "output_type": "display_data"
    }
   ],
   "source": [
    "\"\"\"PLOTTING - Training and validation accuracy\"\"\"\n",
    "plt.clf()\n",
    "\n",
    "acc = history.history['acc']\n",
    "val_acc = history.history['val_acc']\n",
    "\n",
    "plt.plot(epochs, acc, 'bo', label='Training acc')\n",
    "plt.plot(epochs, val_acc, 'b', label='Validation acc')\n",
    "plt.title('Training and validation accuracy')\n",
    "plt.xlabel('Epochs')\n",
    "plt.ylabel('Loss')\n",
    "plt.legend()\n",
    "\n",
    "plt.show()"
   ]
  },
  {
   "cell_type": "code",
   "execution_count": 38,
   "metadata": {},
   "outputs": [
    {
     "name": "stdout",
     "output_type": "stream",
     "text": [
      "ACCURACY %:  0.9664\n",
      "WEIGHTED F1:  0.9665\n",
      "               precision    recall  f1-score   support\n",
      "\n",
      "     business       0.93      0.97      0.95        64\n",
      "entertainment       0.97      0.95      0.96        61\n",
      "     politics       0.98      0.96      0.97        47\n",
      "        sport       0.99      0.99      0.99        73\n",
      "         tech       0.98      0.96      0.97        53\n",
      "\n",
      "    micro avg       0.97      0.97      0.97       298\n",
      "    macro avg       0.97      0.97      0.97       298\n",
      " weighted avg       0.97      0.97      0.97       298\n",
      "  samples avg       0.97      0.97      0.97       298\n",
      "\n"
     ]
    }
   ],
   "source": [
    "from sklearn.metrics import accuracy_score, f1_score, classification_report\n",
    "testing_x = {'input_ids': x_test['input_ids'], 'attention_mask': x_test['attention_mask']}\n",
    "\n",
    "y_preds = model.predict(testing_x)\n",
    "for idx, l in enumerate(y_preds): \n",
    "    coded = np.zeros(5)\n",
    "    coded[np.argmax(l, axis = 0)] = 1.0\n",
    "    y_preds[idx] = coded\n",
    "\n",
    "target_names = [k for k,v in label_map.items()]\n",
    "accuracy = np.round(accuracy_score(test_y, y_preds), 4)\n",
    "weighted_f1 = np.round(f1_score(test_y, y_preds, average = 'weighted'), 4)\n",
    "\n",
    "print(\"ACCURACY %: \", accuracy)\n",
    "print(\"WEIGHTED F1: \", weighted_f1)\n",
    "print(classification_report(test_y, y_preds, target_names = target_names))"
   ]
  },
  {
   "cell_type": "code",
   "execution_count": 39,
   "metadata": {},
   "outputs": [
    {
     "name": "stdout",
     "output_type": "stream",
     "text": [
      "WARNING:tensorflow:Skipping full serialization of Keras layer <keras.layers.core.dropout.Dropout object at 0x000001B5080F5DF0>, because it is not built.\n"
     ]
    },
    {
     "name": "stderr",
     "output_type": "stream",
     "text": [
      "WARNING:tensorflow:Skipping full serialization of Keras layer <keras.layers.core.dropout.Dropout object at 0x000001B5080F5DF0>, because it is not built.\n"
     ]
    },
    {
     "name": "stdout",
     "output_type": "stream",
     "text": [
      "WARNING:tensorflow:Skipping full serialization of Keras layer <keras.layers.core.dropout.Dropout object at 0x000001B5081A5100>, because it is not built.\n"
     ]
    },
    {
     "name": "stderr",
     "output_type": "stream",
     "text": [
      "WARNING:tensorflow:Skipping full serialization of Keras layer <keras.layers.core.dropout.Dropout object at 0x000001B5081A5100>, because it is not built.\n"
     ]
    },
    {
     "name": "stdout",
     "output_type": "stream",
     "text": [
      "WARNING:tensorflow:Skipping full serialization of Keras layer <keras.layers.core.dropout.Dropout object at 0x000001B5081926D0>, because it is not built.\n"
     ]
    },
    {
     "name": "stderr",
     "output_type": "stream",
     "text": [
      "WARNING:tensorflow:Skipping full serialization of Keras layer <keras.layers.core.dropout.Dropout object at 0x000001B5081926D0>, because it is not built.\n"
     ]
    },
    {
     "name": "stdout",
     "output_type": "stream",
     "text": [
      "WARNING:tensorflow:Skipping full serialization of Keras layer <keras.layers.core.dropout.Dropout object at 0x000001B5081C5D00>, because it is not built.\n"
     ]
    },
    {
     "name": "stderr",
     "output_type": "stream",
     "text": [
      "WARNING:tensorflow:Skipping full serialization of Keras layer <keras.layers.core.dropout.Dropout object at 0x000001B5081C5D00>, because it is not built.\n"
     ]
    },
    {
     "name": "stdout",
     "output_type": "stream",
     "text": [
      "WARNING:tensorflow:Skipping full serialization of Keras layer <keras.layers.core.dropout.Dropout object at 0x000001B5081AE340>, because it is not built.\n"
     ]
    },
    {
     "name": "stderr",
     "output_type": "stream",
     "text": [
      "WARNING:tensorflow:Skipping full serialization of Keras layer <keras.layers.core.dropout.Dropout object at 0x000001B5081AE340>, because it is not built.\n"
     ]
    },
    {
     "name": "stdout",
     "output_type": "stream",
     "text": [
      "WARNING:tensorflow:Skipping full serialization of Keras layer <keras.layers.core.dropout.Dropout object at 0x000001B5081C2970>, because it is not built.\n"
     ]
    },
    {
     "name": "stderr",
     "output_type": "stream",
     "text": [
      "WARNING:tensorflow:Skipping full serialization of Keras layer <keras.layers.core.dropout.Dropout object at 0x000001B5081C2970>, because it is not built.\n",
      "WARNING:absl:Found untraced functions such as embeddings_layer_call_fn, embeddings_layer_call_and_return_conditional_losses, transformer_layer_call_fn, transformer_layer_call_and_return_conditional_losses, LayerNorm_layer_call_fn while saving (showing 5 of 164). These functions will not be directly callable after loading.\n"
     ]
    },
    {
     "name": "stdout",
     "output_type": "stream",
     "text": [
      "INFO:tensorflow:Assets written to: models/distilbert-\\assets\n"
     ]
    },
    {
     "name": "stderr",
     "output_type": "stream",
     "text": [
      "INFO:tensorflow:Assets written to: models/distilbert-\\assets\n",
      "c:\\Users\\deguz\\OneDrive\\PET_PROJECTS\\Multiclass_Classification-News_Articles\\process_funcs.py:173: FutureWarning: The frame.append method is deprecated and will be removed from pandas in a future version. Use pandas.concat instead.\n",
      "  'model': model_concat,\n"
     ]
    }
   ],
   "source": [
    "pf.store_results('distilbert', '', model, accuracy, weighted_f1, tf_model=1)"
   ]
  }
 ],
 "metadata": {
  "interpreter": {
   "hash": "7cb1022e853cc79376f316cb56a0ade4081b3989831c5c21d525c392fdd8f794"
  },
  "kernelspec": {
   "display_name": "Python 3.7.11 ('tf-gpu')",
   "language": "python",
   "name": "python3"
  },
  "language_info": {
   "codemirror_mode": {
    "name": "ipython",
    "version": 3
   },
   "file_extension": ".py",
   "mimetype": "text/x-python",
   "name": "python",
   "nbconvert_exporter": "python",
   "pygments_lexer": "ipython3",
   "version": "3.8.0"
  },
  "orig_nbformat": 4
 },
 "nbformat": 4,
 "nbformat_minor": 2
}
