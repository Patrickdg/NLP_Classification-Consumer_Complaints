{
 "cells": [
  {
   "cell_type": "code",
   "execution_count": 1,
   "metadata": {},
   "outputs": [],
   "source": [
    "import pandas as pd"
   ]
  },
  {
   "cell_type": "code",
   "execution_count": 2,
   "metadata": {},
   "outputs": [],
   "source": [
    "data = pd.read_csv('_data/complaints_processed.csv')[['narrative', 'product']]\n",
    "data.dropna(inplace = True)\n",
    "data.reset_index(inplace=True)"
   ]
  },
  {
   "cell_type": "code",
   "execution_count": 3,
   "metadata": {},
   "outputs": [
    {
     "data": {
      "text/html": [
       "<div>\n",
       "<style scoped>\n",
       "    .dataframe tbody tr th:only-of-type {\n",
       "        vertical-align: middle;\n",
       "    }\n",
       "\n",
       "    .dataframe tbody tr th {\n",
       "        vertical-align: top;\n",
       "    }\n",
       "\n",
       "    .dataframe thead th {\n",
       "        text-align: right;\n",
       "    }\n",
       "</style>\n",
       "<table border=\"1\" class=\"dataframe\">\n",
       "  <thead>\n",
       "    <tr style=\"text-align: right;\">\n",
       "      <th></th>\n",
       "      <th>index</th>\n",
       "      <th>narrative</th>\n",
       "      <th>product</th>\n",
       "    </tr>\n",
       "  </thead>\n",
       "  <tbody>\n",
       "    <tr>\n",
       "      <th>0</th>\n",
       "      <td>0</td>\n",
       "      <td>purchase order day shipping amount receive pro...</td>\n",
       "      <td>credit_card</td>\n",
       "    </tr>\n",
       "    <tr>\n",
       "      <th>1</th>\n",
       "      <td>1</td>\n",
       "      <td>forwarded message date tue subject please inve...</td>\n",
       "      <td>credit_card</td>\n",
       "    </tr>\n",
       "    <tr>\n",
       "      <th>2</th>\n",
       "      <td>2</td>\n",
       "      <td>forwarded message cc sent friday pdt subject f...</td>\n",
       "      <td>retail_banking</td>\n",
       "    </tr>\n",
       "    <tr>\n",
       "      <th>3</th>\n",
       "      <td>3</td>\n",
       "      <td>payment history missing credit report speciali...</td>\n",
       "      <td>credit_reporting</td>\n",
       "    </tr>\n",
       "    <tr>\n",
       "      <th>4</th>\n",
       "      <td>4</td>\n",
       "      <td>payment history missing credit report made mis...</td>\n",
       "      <td>credit_reporting</td>\n",
       "    </tr>\n",
       "    <tr>\n",
       "      <th>...</th>\n",
       "      <td>...</td>\n",
       "      <td>...</td>\n",
       "      <td>...</td>\n",
       "    </tr>\n",
       "    <tr>\n",
       "      <th>162406</th>\n",
       "      <td>162416</td>\n",
       "      <td>name</td>\n",
       "      <td>debt_collection</td>\n",
       "    </tr>\n",
       "    <tr>\n",
       "      <th>162407</th>\n",
       "      <td>162417</td>\n",
       "      <td>name</td>\n",
       "      <td>credit_card</td>\n",
       "    </tr>\n",
       "    <tr>\n",
       "      <th>162408</th>\n",
       "      <td>162418</td>\n",
       "      <td>name</td>\n",
       "      <td>debt_collection</td>\n",
       "    </tr>\n",
       "    <tr>\n",
       "      <th>162409</th>\n",
       "      <td>162419</td>\n",
       "      <td>name</td>\n",
       "      <td>credit_card</td>\n",
       "    </tr>\n",
       "    <tr>\n",
       "      <th>162410</th>\n",
       "      <td>162420</td>\n",
       "      <td>name</td>\n",
       "      <td>credit_reporting</td>\n",
       "    </tr>\n",
       "  </tbody>\n",
       "</table>\n",
       "<p>162411 rows × 3 columns</p>\n",
       "</div>"
      ],
      "text/plain": [
       "         index                                          narrative  \\\n",
       "0            0  purchase order day shipping amount receive pro...   \n",
       "1            1  forwarded message date tue subject please inve...   \n",
       "2            2  forwarded message cc sent friday pdt subject f...   \n",
       "3            3  payment history missing credit report speciali...   \n",
       "4            4  payment history missing credit report made mis...   \n",
       "...        ...                                                ...   \n",
       "162406  162416                                               name   \n",
       "162407  162417                                               name   \n",
       "162408  162418                                               name   \n",
       "162409  162419                                               name   \n",
       "162410  162420                                               name   \n",
       "\n",
       "                 product  \n",
       "0            credit_card  \n",
       "1            credit_card  \n",
       "2         retail_banking  \n",
       "3       credit_reporting  \n",
       "4       credit_reporting  \n",
       "...                  ...  \n",
       "162406   debt_collection  \n",
       "162407       credit_card  \n",
       "162408   debt_collection  \n",
       "162409       credit_card  \n",
       "162410  credit_reporting  \n",
       "\n",
       "[162411 rows x 3 columns]"
      ]
     },
     "execution_count": 3,
     "metadata": {},
     "output_type": "execute_result"
    }
   ],
   "source": [
    "data"
   ]
  },
  {
   "cell_type": "code",
   "execution_count": 4,
   "metadata": {},
   "outputs": [
    {
     "data": {
      "text/plain": [
       "(162411, 3)"
      ]
     },
     "execution_count": 4,
     "metadata": {},
     "output_type": "execute_result"
    }
   ],
   "source": [
    "data.shape"
   ]
  },
  {
   "cell_type": "code",
   "execution_count": 5,
   "metadata": {},
   "outputs": [
    {
     "data": {
      "text/plain": [
       "credit_reporting       0.561366\n",
       "debt_collection        0.142527\n",
       "mortgages_and_loans    0.116926\n",
       "credit_card            0.095843\n",
       "retail_banking         0.083338\n",
       "Name: product, dtype: float64"
      ]
     },
     "execution_count": 5,
     "metadata": {},
     "output_type": "execute_result"
    }
   ],
   "source": [
    "data['product'].value_counts(normalize = True)"
   ]
  },
  {
   "cell_type": "code",
   "execution_count": 6,
   "metadata": {},
   "outputs": [],
   "source": [
    "x = data['narrative']\n",
    "lens = x.apply(lambda i: len(i.split(' ')))"
   ]
  },
  {
   "cell_type": "code",
   "execution_count": 7,
   "metadata": {},
   "outputs": [
    {
     "data": {
      "text/plain": [
       "0         230\n",
       "1         132\n",
       "2         173\n",
       "3         131\n",
       "4         123\n",
       "         ... \n",
       "162406      1\n",
       "162407      1\n",
       "162408      1\n",
       "162409      1\n",
       "162410      1\n",
       "Name: narrative, Length: 162411, dtype: int64"
      ]
     },
     "execution_count": 7,
     "metadata": {},
     "output_type": "execute_result"
    }
   ],
   "source": [
    "lens"
   ]
  },
  {
   "cell_type": "code",
   "execution_count": 8,
   "metadata": {},
   "outputs": [
    {
     "name": "stdout",
     "output_type": "stream",
     "text": [
      "2685\n",
      "1\n",
      "80.23279827105307\n"
     ]
    }
   ],
   "source": [
    "import numpy as np\n",
    "print(max(lens))\n",
    "print(min(lens))\n",
    "print(np.mean(lens))"
   ]
  },
  {
   "cell_type": "code",
   "execution_count": 9,
   "metadata": {},
   "outputs": [
    {
     "data": {
      "text/plain": [
       "(array([1.357e+03, 3.357e+03, 4.073e+03, 3.153e+03, 6.080e+03, 5.185e+03,\n",
       "        3.766e+03, 6.025e+03, 5.499e+03, 3.834e+03, 5.466e+03, 6.077e+03,\n",
       "        4.252e+03, 5.691e+03, 4.872e+03, 3.310e+03, 4.692e+03, 3.973e+03,\n",
       "        2.757e+03, 3.762e+03, 4.129e+03, 3.624e+03, 2.097e+03, 3.147e+03,\n",
       "        3.149e+03, 1.856e+03, 2.597e+03, 2.487e+03, 1.464e+03, 2.071e+03,\n",
       "        2.063e+03, 1.267e+03, 1.749e+03, 1.766e+03, 1.115e+03, 2.127e+03,\n",
       "        1.675e+03, 1.155e+03, 1.435e+03, 1.395e+03, 1.408e+03, 8.120e+02,\n",
       "        1.124e+03, 1.130e+03, 7.110e+02, 9.840e+02, 9.140e+02, 6.310e+02,\n",
       "        8.960e+02, 8.730e+02, 5.410e+02, 7.200e+02, 6.970e+02, 4.920e+02,\n",
       "        6.850e+02, 6.050e+02, 4.380e+02, 6.540e+02, 6.690e+02, 6.560e+02,\n",
       "        4.470e+02, 4.970e+02, 4.890e+02, 2.660e+02, 4.180e+02, 4.520e+02,\n",
       "        3.010e+02, 4.340e+02, 4.430e+02, 2.540e+02, 3.650e+02, 3.480e+02,\n",
       "        2.130e+02, 4.340e+02, 4.690e+02, 2.100e+02, 2.830e+02, 2.800e+02,\n",
       "        3.950e+02, 2.550e+02, 2.570e+02, 2.690e+02, 1.790e+02, 2.450e+02,\n",
       "        2.030e+02, 1.530e+02, 1.790e+02, 2.310e+02, 1.170e+02, 1.940e+02,\n",
       "        1.620e+02, 1.020e+02, 1.490e+02, 1.560e+02, 1.200e+02, 1.610e+02,\n",
       "        1.490e+02, 1.540e+02, 1.030e+02, 1.450e+02, 1.350e+02, 8.200e+01,\n",
       "        1.130e+02, 1.120e+02, 7.200e+01, 1.230e+02, 1.060e+02, 7.800e+01,\n",
       "        1.020e+02, 1.110e+02, 8.000e+01, 1.110e+02, 1.380e+02, 7.000e+01,\n",
       "        1.020e+02, 9.400e+01, 8.200e+01, 4.400e+01, 7.900e+01, 7.300e+01,\n",
       "        6.100e+01, 7.400e+01, 6.000e+01, 4.500e+01, 5.800e+01, 9.400e+01,\n",
       "        1.160e+02, 1.330e+02, 5.100e+01, 4.000e+01, 6.200e+01, 6.400e+01,\n",
       "        3.800e+01, 5.500e+01, 1.500e+02, 6.100e+01, 3.300e+01, 1.050e+02,\n",
       "        6.800e+01, 4.800e+01, 4.700e+01, 4.000e+01, 6.400e+01, 6.000e+01,\n",
       "        5.400e+01, 3.700e+01, 3.700e+01, 4.600e+01, 3.000e+01, 4.200e+01,\n",
       "        4.200e+01, 2.500e+01, 2.800e+01, 2.600e+01, 3.700e+01, 1.900e+01,\n",
       "        3.500e+01, 2.300e+01, 1.700e+01, 4.400e+01, 4.000e+01, 2.000e+01,\n",
       "        2.100e+01, 2.000e+01, 1.600e+01, 2.200e+01, 6.900e+01, 2.100e+01,\n",
       "        1.060e+02, 2.400e+01, 1.800e+01, 2.200e+01, 3.800e+01, 2.500e+01,\n",
       "        1.300e+01, 2.400e+01, 2.300e+01, 1.100e+01, 1.800e+01, 3.300e+01,\n",
       "        9.000e+00, 2.100e+01, 2.200e+01, 1.400e+01, 3.300e+01, 2.300e+01,\n",
       "        1.000e+01, 1.300e+01, 1.800e+01, 1.000e+01, 1.400e+01, 1.400e+01,\n",
       "        1.800e+01, 1.300e+01, 2.200e+01, 1.100e+01, 1.100e+01, 1.000e+01,\n",
       "        1.000e+01, 7.000e+00, 1.800e+01, 1.400e+01, 8.000e+00, 1.300e+01,\n",
       "        6.000e+00, 3.000e+00, 1.900e+01, 5.000e+00, 1.000e+00, 8.000e+00,\n",
       "        9.000e+00, 1.500e+01, 8.000e+00, 1.300e+01, 1.100e+01, 9.000e+00,\n",
       "        1.100e+01, 2.100e+01, 6.000e+00, 9.000e+00, 1.100e+01, 6.000e+00,\n",
       "        1.200e+01, 9.000e+00, 9.000e+00, 4.000e+00, 4.000e+00, 5.000e+00,\n",
       "        8.000e+00, 7.000e+00, 5.000e+00, 5.000e+00, 1.400e+01, 1.300e+01,\n",
       "        1.200e+01, 4.000e+00, 1.000e+01, 1.000e+00, 5.000e+00, 8.000e+00,\n",
       "        3.000e+00, 3.000e+00, 6.000e+00, 1.000e+01, 2.200e+01, 4.390e+02,\n",
       "        2.200e+01, 1.100e+01, 8.000e+00, 7.000e+00, 7.000e+00, 1.000e+01,\n",
       "        9.000e+00, 4.000e+00, 9.000e+00, 9.000e+00, 5.000e+00, 4.000e+00,\n",
       "        7.000e+00, 0.000e+00, 1.000e+00, 5.000e+00, 3.000e+00, 3.000e+00,\n",
       "        7.000e+00, 2.000e+00, 5.000e+00, 7.000e+00, 6.000e+00, 4.000e+00,\n",
       "        3.000e+00, 2.000e+00, 2.000e+00, 1.000e+00, 7.000e+00, 4.000e+00,\n",
       "        0.000e+00, 1.000e+00, 9.000e+00, 7.000e+00, 4.000e+00, 5.000e+00,\n",
       "        2.000e+00, 5.000e+00, 0.000e+00, 2.000e+00, 2.000e+00, 3.000e+00,\n",
       "        4.000e+00, 0.000e+00, 3.000e+00, 2.000e+00, 2.000e+00, 4.000e+00,\n",
       "        4.000e+00, 6.000e+00, 7.000e+00, 6.000e+00, 3.000e+00, 1.000e+00,\n",
       "        1.000e+00, 4.000e+00, 1.000e+00, 0.000e+00, 2.000e+00, 3.000e+00,\n",
       "        1.000e+00, 2.000e+00, 7.000e+00, 4.000e+00, 2.000e+00, 2.000e+00,\n",
       "        0.000e+00, 3.000e+00, 1.000e+00, 0.000e+00, 1.000e+00, 3.000e+00,\n",
       "        3.000e+00, 0.000e+00, 0.000e+00, 2.000e+00, 1.000e+00, 1.000e+00,\n",
       "        1.000e+00, 1.000e+00, 3.000e+00, 2.000e+00, 1.000e+00, 2.000e+00,\n",
       "        3.000e+00, 2.000e+00, 1.000e+00, 2.000e+00, 3.000e+00, 2.000e+00,\n",
       "        3.000e+00, 1.000e+00, 1.000e+00, 1.000e+00, 1.000e+00, 1.000e+00,\n",
       "        1.000e+00, 1.000e+00, 1.000e+00, 3.000e+00, 2.000e+00, 2.000e+00,\n",
       "        0.000e+00, 5.000e+00, 4.000e+00, 0.000e+00, 4.000e+00, 1.000e+00,\n",
       "        1.000e+00, 1.000e+00, 5.000e+00, 1.000e+00, 0.000e+00, 1.000e+00,\n",
       "        0.000e+00, 2.000e+00, 1.000e+00, 0.000e+00, 2.000e+00, 1.000e+00,\n",
       "        2.000e+00, 0.000e+00, 1.000e+00, 0.000e+00, 1.000e+00, 0.000e+00,\n",
       "        0.000e+00, 1.000e+00, 0.000e+00, 0.000e+00, 1.000e+00, 4.000e+00,\n",
       "        2.000e+00, 1.000e+00, 2.000e+00, 0.000e+00, 0.000e+00, 0.000e+00,\n",
       "        0.000e+00, 2.000e+00, 0.000e+00, 0.000e+00, 3.000e+00, 2.000e+00,\n",
       "        2.000e+00, 3.000e+00, 1.000e+00, 0.000e+00, 1.000e+00, 0.000e+00,\n",
       "        0.000e+00, 0.000e+00, 1.000e+00, 0.000e+00, 2.000e+00, 2.000e+00,\n",
       "        2.000e+00, 5.000e+00, 4.000e+00, 2.000e+00, 3.000e+00, 3.000e+00,\n",
       "        0.000e+00, 1.000e+01, 1.000e+00, 7.000e+00, 4.000e+00, 1.000e+00,\n",
       "        1.000e+00, 0.000e+00, 2.000e+00, 4.000e+00, 7.000e+00, 2.000e+00,\n",
       "        2.000e+00, 2.000e+00, 2.000e+00, 2.000e+00, 0.000e+00, 0.000e+00,\n",
       "        3.000e+00, 4.000e+00, 2.000e+00, 2.000e+00, 0.000e+00, 0.000e+00,\n",
       "        0.000e+00, 1.000e+00, 4.000e+00, 0.000e+00, 1.000e+00, 1.000e+00,\n",
       "        1.000e+00, 0.000e+00, 1.000e+00, 2.000e+00, 0.000e+00, 0.000e+00,\n",
       "        0.000e+00, 1.000e+00, 2.000e+00, 7.000e+00, 0.000e+00, 0.000e+00,\n",
       "        2.000e+00, 3.000e+00, 2.000e+00, 2.000e+00, 7.000e+00, 5.000e+00,\n",
       "        5.000e+00, 5.000e+00, 4.000e+00, 1.000e+01, 4.000e+00, 2.000e+00,\n",
       "        0.000e+00, 2.000e+00, 2.000e+00, 1.000e+00, 7.000e+00, 8.000e+00,\n",
       "        1.000e+00, 4.000e+00, 1.000e+00, 2.000e+00, 1.000e+00, 2.000e+00,\n",
       "        2.000e+00, 4.000e+00, 1.000e+00, 6.000e+00, 0.000e+00, 9.000e+00,\n",
       "        8.000e+00, 6.000e+00, 3.000e+00, 3.000e+00, 2.000e+00, 1.000e+00,\n",
       "        1.000e+00, 0.000e+00, 1.000e+00, 2.000e+00, 0.000e+00, 6.000e+00,\n",
       "        0.000e+00, 1.000e+00, 1.000e+00, 3.000e+00, 0.000e+00, 3.000e+00,\n",
       "        3.000e+00, 0.000e+00, 2.000e+00, 0.000e+00, 0.000e+00, 2.000e+00,\n",
       "        2.000e+00, 4.000e+00, 0.000e+00, 0.000e+00, 1.000e+00, 0.000e+00,\n",
       "        0.000e+00, 0.000e+00, 1.000e+00, 0.000e+00, 0.000e+00, 0.000e+00,\n",
       "        0.000e+00, 1.000e+00, 1.000e+00, 0.000e+00, 2.000e+00, 0.000e+00,\n",
       "        0.000e+00, 0.000e+00, 1.000e+00, 0.000e+00, 0.000e+00, 1.000e+00,\n",
       "        1.000e+00, 0.000e+00, 0.000e+00, 0.000e+00, 1.000e+00, 0.000e+00,\n",
       "        0.000e+00, 0.000e+00, 0.000e+00, 0.000e+00, 0.000e+00, 0.000e+00,\n",
       "        1.000e+00, 1.000e+00, 0.000e+00, 0.000e+00, 0.000e+00, 0.000e+00,\n",
       "        0.000e+00, 0.000e+00, 0.000e+00, 2.000e+00, 0.000e+00, 2.000e+00,\n",
       "        1.000e+00, 0.000e+00, 0.000e+00, 1.000e+00, 0.000e+00, 0.000e+00,\n",
       "        0.000e+00, 0.000e+00, 0.000e+00, 1.000e+00, 0.000e+00, 0.000e+00,\n",
       "        0.000e+00, 0.000e+00, 0.000e+00, 0.000e+00, 0.000e+00, 0.000e+00,\n",
       "        0.000e+00, 1.000e+00, 0.000e+00, 1.000e+00, 0.000e+00, 0.000e+00,\n",
       "        0.000e+00, 0.000e+00, 1.000e+00, 0.000e+00, 0.000e+00, 1.000e+00,\n",
       "        0.000e+00, 1.000e+00, 0.000e+00, 0.000e+00, 0.000e+00, 0.000e+00,\n",
       "        2.000e+00, 0.000e+00, 0.000e+00, 0.000e+00, 0.000e+00, 1.000e+00,\n",
       "        0.000e+00, 0.000e+00, 0.000e+00, 2.000e+00, 0.000e+00, 0.000e+00,\n",
       "        0.000e+00, 0.000e+00, 0.000e+00, 0.000e+00, 0.000e+00, 0.000e+00,\n",
       "        0.000e+00, 0.000e+00, 0.000e+00, 0.000e+00, 0.000e+00, 0.000e+00,\n",
       "        0.000e+00, 0.000e+00, 0.000e+00, 0.000e+00, 0.000e+00, 0.000e+00,\n",
       "        0.000e+00, 0.000e+00, 0.000e+00, 0.000e+00, 0.000e+00, 0.000e+00,\n",
       "        0.000e+00, 0.000e+00, 0.000e+00, 0.000e+00, 0.000e+00, 0.000e+00,\n",
       "        2.000e+00, 0.000e+00, 0.000e+00, 0.000e+00, 0.000e+00, 0.000e+00,\n",
       "        0.000e+00, 0.000e+00, 0.000e+00, 0.000e+00, 1.000e+00, 0.000e+00,\n",
       "        0.000e+00, 1.000e+00, 0.000e+00, 0.000e+00, 0.000e+00, 0.000e+00,\n",
       "        0.000e+00, 0.000e+00, 0.000e+00, 0.000e+00, 0.000e+00, 0.000e+00,\n",
       "        0.000e+00, 0.000e+00, 0.000e+00, 0.000e+00, 0.000e+00, 1.000e+00,\n",
       "        0.000e+00, 1.000e+00, 3.000e+00, 1.000e+00, 1.000e+00, 0.000e+00,\n",
       "        0.000e+00, 0.000e+00, 0.000e+00, 0.000e+00, 0.000e+00, 0.000e+00,\n",
       "        0.000e+00, 0.000e+00, 0.000e+00, 0.000e+00, 0.000e+00, 0.000e+00,\n",
       "        0.000e+00, 0.000e+00, 0.000e+00, 0.000e+00, 0.000e+00, 0.000e+00,\n",
       "        1.000e+00, 0.000e+00, 0.000e+00, 0.000e+00, 0.000e+00, 0.000e+00,\n",
       "        1.000e+00, 0.000e+00, 0.000e+00, 0.000e+00, 0.000e+00, 1.000e+00,\n",
       "        0.000e+00, 0.000e+00, 1.000e+00, 0.000e+00, 0.000e+00, 0.000e+00,\n",
       "        0.000e+00, 0.000e+00, 0.000e+00, 0.000e+00, 0.000e+00, 0.000e+00,\n",
       "        0.000e+00, 0.000e+00, 0.000e+00, 0.000e+00, 0.000e+00, 0.000e+00,\n",
       "        0.000e+00, 0.000e+00, 0.000e+00, 0.000e+00, 1.000e+00, 0.000e+00,\n",
       "        0.000e+00, 0.000e+00, 3.000e+00, 0.000e+00, 1.000e+00, 2.000e+00,\n",
       "        0.000e+00, 0.000e+00, 0.000e+00, 1.000e+00, 0.000e+00, 0.000e+00,\n",
       "        0.000e+00, 0.000e+00, 0.000e+00, 0.000e+00, 0.000e+00, 0.000e+00,\n",
       "        1.000e+00, 2.000e+00, 0.000e+00, 0.000e+00, 0.000e+00, 0.000e+00,\n",
       "        0.000e+00, 0.000e+00, 0.000e+00, 0.000e+00, 0.000e+00, 0.000e+00,\n",
       "        0.000e+00, 1.000e+00, 1.000e+00, 0.000e+00, 0.000e+00, 0.000e+00,\n",
       "        0.000e+00, 1.000e+00, 0.000e+00, 0.000e+00, 0.000e+00, 0.000e+00,\n",
       "        0.000e+00, 0.000e+00, 0.000e+00, 0.000e+00, 0.000e+00, 0.000e+00,\n",
       "        0.000e+00, 0.000e+00, 0.000e+00, 0.000e+00, 1.000e+00, 1.000e+00,\n",
       "        0.000e+00, 0.000e+00, 0.000e+00, 0.000e+00, 0.000e+00, 0.000e+00,\n",
       "        0.000e+00, 0.000e+00, 0.000e+00, 0.000e+00, 0.000e+00, 0.000e+00,\n",
       "        0.000e+00, 0.000e+00, 0.000e+00, 0.000e+00, 0.000e+00, 0.000e+00,\n",
       "        0.000e+00, 0.000e+00, 0.000e+00, 0.000e+00, 0.000e+00, 0.000e+00,\n",
       "        0.000e+00, 0.000e+00, 0.000e+00, 0.000e+00, 1.000e+00, 1.000e+00,\n",
       "        0.000e+00, 1.000e+00, 1.000e+00, 1.000e+00, 0.000e+00, 0.000e+00,\n",
       "        0.000e+00, 0.000e+00, 0.000e+00, 0.000e+00, 0.000e+00, 0.000e+00,\n",
       "        0.000e+00, 1.000e+00, 0.000e+00, 0.000e+00, 0.000e+00, 0.000e+00,\n",
       "        0.000e+00, 0.000e+00, 0.000e+00, 1.000e+00, 0.000e+00, 0.000e+00,\n",
       "        0.000e+00, 0.000e+00, 0.000e+00, 0.000e+00, 0.000e+00, 0.000e+00,\n",
       "        0.000e+00, 0.000e+00, 0.000e+00, 0.000e+00, 0.000e+00, 0.000e+00,\n",
       "        0.000e+00, 0.000e+00, 0.000e+00, 0.000e+00, 0.000e+00, 0.000e+00,\n",
       "        0.000e+00, 0.000e+00, 0.000e+00, 0.000e+00, 0.000e+00, 0.000e+00,\n",
       "        0.000e+00, 0.000e+00, 0.000e+00, 0.000e+00, 0.000e+00, 0.000e+00,\n",
       "        0.000e+00, 0.000e+00, 0.000e+00, 0.000e+00, 1.000e+00, 0.000e+00,\n",
       "        0.000e+00, 1.000e+00, 0.000e+00, 0.000e+00, 0.000e+00, 1.000e+00,\n",
       "        0.000e+00, 1.000e+00, 0.000e+00, 0.000e+00, 0.000e+00, 0.000e+00,\n",
       "        0.000e+00, 0.000e+00, 0.000e+00, 0.000e+00, 0.000e+00, 0.000e+00,\n",
       "        0.000e+00, 0.000e+00, 0.000e+00, 0.000e+00, 0.000e+00, 0.000e+00,\n",
       "        0.000e+00, 0.000e+00, 0.000e+00, 0.000e+00, 0.000e+00, 0.000e+00,\n",
       "        0.000e+00, 0.000e+00, 0.000e+00, 0.000e+00, 1.000e+00, 0.000e+00,\n",
       "        0.000e+00, 0.000e+00, 0.000e+00, 0.000e+00, 0.000e+00, 0.000e+00,\n",
       "        0.000e+00, 0.000e+00, 0.000e+00, 0.000e+00, 0.000e+00, 0.000e+00,\n",
       "        0.000e+00, 0.000e+00, 0.000e+00, 0.000e+00, 0.000e+00, 0.000e+00,\n",
       "        0.000e+00, 0.000e+00, 0.000e+00, 0.000e+00, 0.000e+00, 0.000e+00,\n",
       "        0.000e+00, 0.000e+00, 0.000e+00, 0.000e+00, 0.000e+00, 0.000e+00,\n",
       "        0.000e+00, 0.000e+00, 0.000e+00, 0.000e+00, 0.000e+00, 0.000e+00,\n",
       "        0.000e+00, 0.000e+00, 0.000e+00, 0.000e+00, 1.000e+00, 0.000e+00,\n",
       "        0.000e+00, 0.000e+00, 0.000e+00, 0.000e+00, 0.000e+00, 0.000e+00,\n",
       "        0.000e+00, 0.000e+00, 0.000e+00, 0.000e+00, 0.000e+00, 0.000e+00,\n",
       "        0.000e+00, 0.000e+00, 2.000e+00, 0.000e+00, 0.000e+00, 0.000e+00,\n",
       "        0.000e+00, 0.000e+00, 0.000e+00, 0.000e+00, 0.000e+00, 0.000e+00,\n",
       "        0.000e+00, 0.000e+00, 0.000e+00, 0.000e+00, 0.000e+00, 0.000e+00,\n",
       "        0.000e+00, 0.000e+00, 0.000e+00, 0.000e+00, 0.000e+00, 0.000e+00,\n",
       "        0.000e+00, 0.000e+00, 0.000e+00, 0.000e+00, 0.000e+00, 0.000e+00,\n",
       "        0.000e+00, 0.000e+00, 0.000e+00, 0.000e+00, 0.000e+00, 0.000e+00,\n",
       "        0.000e+00, 0.000e+00, 0.000e+00, 0.000e+00, 0.000e+00, 0.000e+00,\n",
       "        0.000e+00, 0.000e+00, 0.000e+00, 1.000e+00]),\n",
       " array([1.000000e+00, 3.684000e+00, 6.368000e+00, ..., 2.679632e+03,\n",
       "        2.682316e+03, 2.685000e+03]),\n",
       " <BarContainer object of 1000 artists>)"
      ]
     },
     "execution_count": 9,
     "metadata": {},
     "output_type": "execute_result"
    },
    {
     "data": {
      "image/png": "[encoded data removed]",
      "text/plain": [
       "<Figure size 432x288 with 1 Axes>"
      ]
     },
     "metadata": {
      "needs_background": "light"
     },
     "output_type": "display_data"
    }
   ],
   "source": [
    "import matplotlib.pyplot as plt\n",
    "plt.hist(lens, bins = 1000)"
   ]
  },
  {
   "cell_type": "code",
   "execution_count": 10,
   "metadata": {},
   "outputs": [],
   "source": [
    "len_counts = lens.value_counts(normalize = True).sort_index()[:100]"
   ]
  },
  {
   "cell_type": "code",
   "execution_count": 11,
   "metadata": {},
   "outputs": [
    {
     "data": {
      "text/plain": [
       "0.7731249730621697"
      ]
     },
     "execution_count": 11,
     "metadata": {},
     "output_type": "execute_result"
    }
   ],
   "source": [
    "# Samples of <= 100 words in length compose 77% of total samples  \n",
    "sum(len_counts)"
   ]
  },
  {
   "cell_type": "code",
   "execution_count": 12,
   "metadata": {},
   "outputs": [
    {
     "data": {
      "text/plain": [
       "0.9670404098244587"
      ]
     },
     "execution_count": 12,
     "metadata": {},
     "output_type": "execute_result"
    }
   ],
   "source": [
    "# Samples of <= 300 words in length compose 96% of total samples  \n",
    "len_counts_3 = lens.value_counts(normalize = True).sort_index()[:300]\n",
    "sum(len_counts_3)"
   ]
  },
  {
   "cell_type": "code",
   "execution_count": 29,
   "metadata": {},
   "outputs": [],
   "source": [
    "from nltk import word_tokenize\n",
    "x_s = set(word_tokenize(' '.join(data.sample(frac = 0.025)['narrative'].values)))"
   ]
  },
  {
   "cell_type": "code",
   "execution_count": null,
   "metadata": {},
   "outputs": [],
   "source": []
  }
 ],
 "metadata": {
  "interpreter": {
   "hash": "249f1afd2050a242ce4b3bc9c06a97cd7c004eb82af489bfb33a70fe0b01e428"
  },
  "kernelspec": {
   "display_name": "Python 3.9.5 64-bit",
   "language": "python",
   "name": "python3"
  },
  "language_info": {
   "codemirror_mode": {
    "name": "ipython",
    "version": 3
   },
   "file_extension": ".py",
   "mimetype": "text/x-python",
   "name": "python",
   "nbconvert_exporter": "python",
   "pygments_lexer": "ipython3",
   "version": "3.9.4"
  },
  "orig_nbformat": 4
 },
 "nbformat": 4,
 "nbformat_minor": 2
}
